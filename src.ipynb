{
 "cells": [
  {
   "cell_type": "code",
   "execution_count": 3,
   "id": "550e1196-a8a4-4c5e-b234-55fbf687c282",
   "metadata": {},
   "outputs": [],
   "source": [
    "import pyspark\n",
    "from pyspark.sql import SparkSession"
   ]
  },
  {
   "cell_type": "code",
   "execution_count": 4,
   "id": "91f4a95e-87e3-4bb5-b16a-40ff79d0d1e7",
   "metadata": {},
   "outputs": [
    {
     "name": "stderr",
     "output_type": "stream",
     "text": [
      "24/04/19 09:27:05 WARN Client: Neither spark.yarn.jars nor spark.yarn.archive is set, falling back to uploading libraries under SPARK_HOME.\n",
      "24/04/19 09:27:22 WARN YarnSchedulerBackend$YarnSchedulerEndpoint: Attempted to request executors before the AM has registered!\n"
     ]
    }
   ],
   "source": [
    "spark = SparkSession.builder.appName(\"proj\").getOrCreate()"
   ]
  },
  {
   "cell_type": "code",
   "execution_count": 5,
   "id": "41d34c45-d1b0-4792-a88c-21dafff4ca8a",
   "metadata": {},
   "outputs": [
    {
     "data": {
      "text/html": [
       "\n",
       "            <div>\n",
       "                <p><b>SparkSession - in-memory</b></p>\n",
       "                \n",
       "        <div>\n",
       "            <p><b>SparkContext</b></p>\n",
       "\n",
       "            <p><a href=\"http://master.data7201.emr:4040\">Spark UI</a></p>\n",
       "\n",
       "            <dl>\n",
       "              <dt>Version</dt>\n",
       "                <dd><code>v3.5.0</code></dd>\n",
       "              <dt>Master</dt>\n",
       "                <dd><code>yarn</code></dd>\n",
       "              <dt>AppName</dt>\n",
       "                <dd><code>proj</code></dd>\n",
       "            </dl>\n",
       "        </div>\n",
       "        \n",
       "            </div>\n",
       "        "
      ],
      "text/plain": [
       "<pyspark.sql.session.SparkSession at 0x7fffe05566e0>"
      ]
     },
     "execution_count": 5,
     "metadata": {},
     "output_type": "execute_result"
    }
   ],
   "source": [
    "spark"
   ]
  },
  {
   "cell_type": "code",
   "execution_count": 2,
   "id": "4b0dea1d-4c38-4be4-9d53-245815150954",
   "metadata": {},
   "outputs": [],
   "source": [
    "spark.conf.set(\"spark.sql.debug.maxToStringFields\", 1000)"
   ]
  },
  {
   "cell_type": "markdown",
   "id": "782cd231-11ca-4f5c-866d-be780d2b3715",
   "metadata": {},
   "source": [
    "### Load dataset"
   ]
  },
  {
   "cell_type": "code",
   "execution_count": 1,
   "id": "e1bf0c7a-1098-42b1-9ba4-f9afaf52bc91",
   "metadata": {},
   "outputs": [],
   "source": [
    "from pyspark.sql.functions import col, asc, month, sum, split, explode, lower\n",
    "from pyspark.sql.types import DoubleType"
   ]
  },
  {
   "cell_type": "code",
   "execution_count": 3,
   "id": "4c106299-ee74-414f-b424-796d22b1c8cf",
   "metadata": {},
   "outputs": [
    {
     "name": "stderr",
     "output_type": "stream",
     "text": [
      "                                                                                \r"
     ]
    }
   ],
   "source": [
    "df = spark.read.json(\"/data/ProjectDatasetFacebookAU\")"
   ]
  },
  {
   "cell_type": "code",
   "execution_count": 5,
   "id": "ee95a566-5704-42a7-8beb-dd088894027f",
   "metadata": {},
   "outputs": [
    {
     "name": "stdout",
     "output_type": "stream",
     "text": [
      "root\n",
      " |-- ad_creation_time: string (nullable = true)\n",
      " |-- ad_creative_bodies: array (nullable = true)\n",
      " |    |-- element: string (containsNull = true)\n",
      " |-- ad_creative_body: string (nullable = true)\n",
      " |-- ad_creative_link_caption: string (nullable = true)\n",
      " |-- ad_creative_link_captions: array (nullable = true)\n",
      " |    |-- element: string (containsNull = true)\n",
      " |-- ad_creative_link_description: string (nullable = true)\n",
      " |-- ad_creative_link_descriptions: array (nullable = true)\n",
      " |    |-- element: string (containsNull = true)\n",
      " |-- ad_creative_link_title: string (nullable = true)\n",
      " |-- ad_creative_link_titles: array (nullable = true)\n",
      " |    |-- element: string (containsNull = true)\n",
      " |-- ad_delivery_start_time: string (nullable = true)\n",
      " |-- ad_delivery_stop_time: string (nullable = true)\n",
      " |-- ad_snapshot_url: string (nullable = true)\n",
      " |-- bylines: string (nullable = true)\n",
      " |-- currency: string (nullable = true)\n",
      " |-- delivery_by_region: array (nullable = true)\n",
      " |    |-- element: struct (containsNull = true)\n",
      " |    |    |-- percentage: string (nullable = true)\n",
      " |    |    |-- region: string (nullable = true)\n",
      " |-- demographic_distribution: array (nullable = true)\n",
      " |    |-- element: struct (containsNull = true)\n",
      " |    |    |-- age: string (nullable = true)\n",
      " |    |    |-- gender: string (nullable = true)\n",
      " |    |    |-- percentage: string (nullable = true)\n",
      " |-- estimated_audience_size: struct (nullable = true)\n",
      " |    |-- lower_bound: string (nullable = true)\n",
      " |    |-- upper_bound: string (nullable = true)\n",
      " |-- funding_entity: string (nullable = true)\n",
      " |-- id: string (nullable = true)\n",
      " |-- impressions: struct (nullable = true)\n",
      " |    |-- lower_bound: string (nullable = true)\n",
      " |    |-- upper_bound: string (nullable = true)\n",
      " |-- languages: array (nullable = true)\n",
      " |    |-- element: string (containsNull = true)\n",
      " |-- page_id: string (nullable = true)\n",
      " |-- page_name: string (nullable = true)\n",
      " |-- publisher_platforms: array (nullable = true)\n",
      " |    |-- element: string (containsNull = true)\n",
      " |-- region_distribution: array (nullable = true)\n",
      " |    |-- element: struct (containsNull = true)\n",
      " |    |    |-- percentage: string (nullable = true)\n",
      " |    |    |-- region: string (nullable = true)\n",
      " |-- spend: struct (nullable = true)\n",
      " |    |-- lower_bound: string (nullable = true)\n",
      " |    |-- upper_bound: string (nullable = true)\n",
      "\n"
     ]
    }
   ],
   "source": [
    "df.printSchema()"
   ]
  },
  {
   "cell_type": "markdown",
   "id": "ad8c3c22-06b1-4b76-aa37-382685a6705b",
   "metadata": {},
   "source": [
    "## Pre-processing"
   ]
  },
  {
   "cell_type": "markdown",
   "id": "9f8b68a4-6337-4d46-a5a4-887212ab9dc5",
   "metadata": {},
   "source": [
    "We first filter the data to be Feburary to May in 2022 which was the period before and during Australia Federal Election 2022. Then, we select useful columns for analysis. Null values and duplicates removal are performed. "
   ]
  },
  {
   "cell_type": "code",
   "execution_count": 7,
   "id": "c60dc04d-7a41-4bf1-99db-f46607ce9dac",
   "metadata": {},
   "outputs": [],
   "source": [
    "#Function for calculating mid value\n",
    "def calculate_mid_value_mean(col):\n",
    "    lower_bound = col.lower_bound.cast(\"int\")\n",
    "    upper_bound = col.upper_bound.cast(\"int\")\n",
    "    return (lower_bound + upper_bound) / 2"
   ]
  },
  {
   "cell_type": "markdown",
   "id": "25db6939-a111-4e2a-a1f8-8fde8a89e96e",
   "metadata": {},
   "source": [
    "#### Select desirable columns and drop null values"
   ]
  },
  {
   "cell_type": "code",
   "execution_count": 4,
   "id": "6ed04bd0-f6c4-407b-9e74-aedcf099ca18",
   "metadata": {},
   "outputs": [],
   "source": [
    "df_dt = df.withColumn(\"ad_delivery_start_time\", df[\"ad_delivery_start_time\"].cast(\"date\"))\n",
    "\n",
    "# Filter data for Feb-May 2022 (period before the election)\n",
    "start_date = \"2022-02-01\"\n",
    "end_date = \"2022-05-31\"\n",
    "filtered_data = df_dt.filter((df_dt[\"ad_delivery_start_time\"] >= start_date) \n",
    "                             & (df_dt[\"ad_delivery_start_time\"] <= end_date))"
   ]
  },
  {
   "cell_type": "code",
   "execution_count": 218,
   "id": "548e5953-3b99-488f-9fdb-f8639407d4ad",
   "metadata": {},
   "outputs": [
    {
     "name": "stdout",
     "output_type": "stream",
     "text": [
      "root\n",
      " |-- ad_creation_time: string (nullable = true)\n",
      " |-- ad_creative_bodies: array (nullable = true)\n",
      " |    |-- element: string (containsNull = true)\n",
      " |-- ad_creative_body: string (nullable = true)\n",
      " |-- ad_creative_link_caption: string (nullable = true)\n",
      " |-- ad_creative_link_captions: array (nullable = true)\n",
      " |    |-- element: string (containsNull = true)\n",
      " |-- ad_creative_link_description: string (nullable = true)\n",
      " |-- ad_creative_link_descriptions: array (nullable = true)\n",
      " |    |-- element: string (containsNull = true)\n",
      " |-- ad_creative_link_title: string (nullable = true)\n",
      " |-- ad_creative_link_titles: array (nullable = true)\n",
      " |    |-- element: string (containsNull = true)\n",
      " |-- ad_delivery_start_time: date (nullable = true)\n",
      " |-- ad_delivery_stop_time: string (nullable = true)\n",
      " |-- ad_snapshot_url: string (nullable = true)\n",
      " |-- bylines: string (nullable = true)\n",
      " |-- currency: string (nullable = true)\n",
      " |-- delivery_by_region: array (nullable = true)\n",
      " |    |-- element: struct (containsNull = true)\n",
      " |    |    |-- percentage: string (nullable = true)\n",
      " |    |    |-- region: string (nullable = true)\n",
      " |-- demographic_distribution: array (nullable = true)\n",
      " |    |-- element: struct (containsNull = true)\n",
      " |    |    |-- age: string (nullable = true)\n",
      " |    |    |-- gender: string (nullable = true)\n",
      " |    |    |-- percentage: string (nullable = true)\n",
      " |-- estimated_audience_size: struct (nullable = true)\n",
      " |    |-- lower_bound: string (nullable = true)\n",
      " |    |-- upper_bound: string (nullable = true)\n",
      " |-- funding_entity: string (nullable = true)\n",
      " |-- id: string (nullable = true)\n",
      " |-- impressions: struct (nullable = true)\n",
      " |    |-- lower_bound: string (nullable = true)\n",
      " |    |-- upper_bound: string (nullable = true)\n",
      " |-- languages: array (nullable = true)\n",
      " |    |-- element: string (containsNull = true)\n",
      " |-- page_id: string (nullable = true)\n",
      " |-- page_name: string (nullable = true)\n",
      " |-- publisher_platforms: array (nullable = true)\n",
      " |    |-- element: string (containsNull = true)\n",
      " |-- region_distribution: array (nullable = true)\n",
      " |    |-- element: struct (containsNull = true)\n",
      " |    |    |-- percentage: string (nullable = true)\n",
      " |    |    |-- region: string (nullable = true)\n",
      " |-- spend: struct (nullable = true)\n",
      " |    |-- lower_bound: string (nullable = true)\n",
      " |    |-- upper_bound: string (nullable = true)\n",
      "\n"
     ]
    }
   ],
   "source": [
    "filtered_data.printSchema()"
   ]
  },
  {
   "cell_type": "code",
   "execution_count": 5,
   "id": "90b26c46-426a-4271-8ccd-a6ff347ba5bd",
   "metadata": {},
   "outputs": [],
   "source": [
    "df1 = filtered_data.select(\"id\", \"ad_creative_body\", \"funding_entity\",\"ad_delivery_start_time\", \"spend\")\\\n",
    "        .filter(filtered_data['ad_creative_body'].isNotNull()).filter(filtered_data[\"funding_entity\"].isNotNull())"
   ]
  },
  {
   "cell_type": "code",
   "execution_count": 174,
   "id": "510ccc9d-700e-4bb9-933d-0ca0f6bff689",
   "metadata": {},
   "outputs": [
    {
     "name": "stderr",
     "output_type": "stream",
     "text": [
      "                                                                                \r"
     ]
    },
    {
     "data": {
      "text/plain": [
       "2334585"
      ]
     },
     "execution_count": 174,
     "metadata": {},
     "output_type": "execute_result"
    }
   ],
   "source": [
    "df1.count()"
   ]
  },
  {
   "cell_type": "code",
   "execution_count": 9,
   "id": "5cc0b302-da63-4d00-be9f-00fc79f52026",
   "metadata": {},
   "outputs": [],
   "source": [
    "#Calculate mid value of spending range\n",
    "df1_mid = df1.withColumn(\"spend_midpoint\", calculate_mid_value_mean(df_cor[\"spend\"]))"
   ]
  },
  {
   "cell_type": "markdown",
   "id": "7eef2316-e1f2-4388-b334-92277613ca5d",
   "metadata": {},
   "source": [
    "#### Drop duplicates"
   ]
  },
  {
   "cell_type": "code",
   "execution_count": 10,
   "id": "a903effd-38bc-45f1-8e94-01c29af57b0e",
   "metadata": {},
   "outputs": [],
   "source": [
    "#Drop duplicated ads\n",
    "df_clean = df1_mid.dropDuplicates()"
   ]
  },
  {
   "cell_type": "code",
   "execution_count": 188,
   "id": "24c5de51-c54d-41dc-a47a-6727c19dffee",
   "metadata": {},
   "outputs": [
    {
     "name": "stderr",
     "output_type": "stream",
     "text": [
      "                                                                                \r"
     ]
    },
    {
     "data": {
      "text/plain": [
       "174445"
      ]
     },
     "execution_count": 188,
     "metadata": {},
     "output_type": "execute_result"
    }
   ],
   "source": [
    "df_clean.count()"
   ]
  },
  {
   "cell_type": "code",
   "execution_count": 196,
   "id": "4915356c-d61c-4957-9414-5e0d85bdd185",
   "metadata": {},
   "outputs": [
    {
     "name": "stderr",
     "output_type": "stream",
     "text": [
      "[Stage 858:====================================================>(903 + 5) / 908]\r"
     ]
    },
    {
     "name": "stdout",
     "output_type": "stream",
     "text": [
      "+---------------+--------------------+--------------------+----------------------+----------+\n",
      "|             id|    ad_creative_body|      funding_entity|ad_delivery_start_time|     spend|\n",
      "+---------------+--------------------+--------------------+----------------------+----------+\n",
      "|404432794860058|🚨 EXCLUSIVE 🚨 \\...|Australian Labor ...|            2022-04-28|   {0, 99}|\n",
      "|404432794860058|🚨 EXCLUSIVE 🚨 \\...|Australian Labor ...|            2022-04-28|{100, 199}|\n",
      "|404432794860058|🚨 EXCLUSIVE 🚨 \\...|Australian Labor ...|            2022-04-29|   {0, 99}|\n",
      "|404432794860058|🚨 EXCLUSIVE 🚨 \\...|Australian Labor ...|            2022-04-28|{200, 299}|\n",
      "+---------------+--------------------+--------------------+----------------------+----------+\n",
      "\n"
     ]
    },
    {
     "name": "stderr",
     "output_type": "stream",
     "text": [
      "                                                                                \r"
     ]
    }
   ],
   "source": [
    "# Show result after removing duplicates for a particular ad\n",
    "df_clean.filter(col(\"id\") == '404432794860058').show()"
   ]
  },
  {
   "cell_type": "code",
   "execution_count": 189,
   "id": "6c84de00-91aa-4e3c-8cb1-ae99c1169fa8",
   "metadata": {},
   "outputs": [
    {
     "name": "stderr",
     "output_type": "stream",
     "text": [
      "[Stage 827:====================================================>(906 + 2) / 908]\r"
     ]
    },
    {
     "name": "stdout",
     "output_type": "stream",
     "text": [
      "+----------------+--------------------+--------------------+----------------------+----------+\n",
      "|              id|    ad_creative_body|      funding_entity|ad_delivery_start_time|     spend|\n",
      "+----------------+--------------------+--------------------+----------------------+----------+\n",
      "| 373145904782145|Visit the Climate...| The Climate Council|            2022-05-18|   {0, 99}|\n",
      "| 414786736881564|The NDIS has been...| James Oliver Gibson|            2022-05-18|   {0, 99}|\n",
      "|1307461829780910|Federal governmen...| James Oliver Gibson|            2022-05-18|   {0, 99}|\n",
      "| 543858233848769|You may know me a...|       Jerome Laxale|            2022-05-18|   {0, 99}|\n",
      "| 453902239835432|Floods, vaccines,...|    Queensland Labor|            2022-05-17|   {0, 99}|\n",
      "|1758261167842097|It’s time we put ...|Senator Mehreen F...|            2022-05-17|   {0, 99}|\n",
      "| 340436141530462|Scott Morrison's ...|Australian Educat...|            2022-05-17|   {0, 99}|\n",
      "|5748870808461853|Last time so-call...|Senator Matt O'Su...|            2022-05-17|   {0, 99}|\n",
      "| 435575545078897|Don’t risk our ec...|Liberal National ...|            2022-05-17|   {0, 99}|\n",
      "| 376129820976529|We can reverse so...|    Victorian Greens|            2022-05-17|{100, 199}|\n",
      "+----------------+--------------------+--------------------+----------------------+----------+\n",
      "only showing top 10 rows\n",
      "\n"
     ]
    },
    {
     "name": "stderr",
     "output_type": "stream",
     "text": [
      "                                                                                \r"
     ]
    }
   ],
   "source": [
    "df_clean.show(10)"
   ]
  },
  {
   "cell_type": "markdown",
   "id": "1f3b0151-d9ce-4258-890c-cd7785cc8da1",
   "metadata": {},
   "source": [
    "## 1. Volume of Ads"
   ]
  },
  {
   "cell_type": "markdown",
   "id": "bf8d3c83-f19c-41fc-b8de-e755ffb871da",
   "metadata": {},
   "source": [
    "We observe a skyrocket increase in ads volume when the federal election date approaches. "
   ]
  },
  {
   "cell_type": "code",
   "execution_count": 191,
   "id": "af230b58-e2d6-43c9-860c-30859eca6232",
   "metadata": {},
   "outputs": [
    {
     "name": "stderr",
     "output_type": "stream",
     "text": [
      "                                                                                \r"
     ]
    }
   ],
   "source": [
    "# Group by month and count the number of ads\n",
    "ads_per_month = df_clean.groupBy(month(\"ad_delivery_start_time\").alias(\"month\")).count().orderBy(\"month\")\n",
    "\n",
    "# Plot graph using other tools\n",
    "ads_per_month_pd = ads_per_month.toPandas()\n",
    "ads_per_month_pd.to_csv('ads.csv', encoding='utf-8', index=False)"
   ]
  },
  {
   "cell_type": "markdown",
   "id": "6142ea00-c76f-4ca1-9887-a198b229b2dc",
   "metadata": {},
   "source": [
    "## 2. Stopword Removal and Word Frequency"
   ]
  },
  {
   "cell_type": "markdown",
   "id": "dae37b6b-33f6-41f2-a2c0-acaee59044b1",
   "metadata": {},
   "source": [
    "In this part, we are interested about the content of the sponsored posts across the federal election period. We will remove stop words and create word cloud for visualization."
   ]
  },
  {
   "cell_type": "code",
   "execution_count": 12,
   "id": "55f5bd07-dab4-4fc2-9c40-ed85815f8b11",
   "metadata": {},
   "outputs": [],
   "source": [
    "# Find word freqeuncy \n",
    "lowercase_df = df_clean.select(lower(col(\"ad_creative_body\")).alias(\"ad_creative_body\"))\n",
    "\n",
    "# Tokenize the text\n",
    "tokenized_df = lowercase_df.withColumn(\"words\", split(lowercase_df[\"ad_creative_body\"], \"\\\\s+\"))\n",
    "tokenized_df = tokenized_df.select(explode(\"words\").alias(\"word\"))\n",
    "\n",
    "# Group by the word column and count occurrences\n",
    "word_counts = tokenized_df.groupBy(\"word\").count()\n",
    "word_counts = word_counts.filter((col(\"word\") != \"\") & (col(\"word\") != \"-\"))"
   ]
  },
  {
   "cell_type": "code",
   "execution_count": 16,
   "id": "5aca65a1-5941-4ce9-9262-7c609d4570f8",
   "metadata": {},
   "outputs": [],
   "source": [
    "# Sort the word frequencies in descending order\n",
    "sorted_wc = word_counts.orderBy(\"count\", ascending=False)"
   ]
  },
  {
   "cell_type": "code",
   "execution_count": 17,
   "id": "86e3cc2e-a379-4c64-ac5e-9eefc621ea0c",
   "metadata": {},
   "outputs": [
    {
     "name": "stderr",
     "output_type": "stream",
     "text": [
      "                                                                                \r"
     ]
    }
   ],
   "source": [
    "# Export CSV file for viewing all words\n",
    "sorted_wc = sorted_wc.toPandas()\n",
    "sorted_wc.to_csv('all_words.csv', encoding='utf-8', index=False)"
   ]
  },
  {
   "cell_type": "markdown",
   "id": "d5804a5e-6350-4311-93a3-99c00a82d5eb",
   "metadata": {},
   "source": [
    "#### Stop word removal and select top 100 words"
   ]
  },
  {
   "cell_type": "code",
   "execution_count": 198,
   "id": "86bec14b-7d2a-4958-9163-9e40e69c5624",
   "metadata": {},
   "outputs": [],
   "source": [
    "from pyspark.ml.feature import StopWordsRemover\n",
    "\n",
    "# Load default stop words for English\n",
    "stop_words = StopWordsRemover.loadDefaultStopWords(\"english\")\n",
    "\n",
    "# Filter out stop words\n",
    "filtered_word_counts = word_counts.filter(~col(\"word\").isin(stop_words))\n",
    "\n",
    "# Sort the word frequencies in descending order\n",
    "sorted_word_counts = filtered_word_counts.orderBy(\"count\", ascending=False)\n",
    "\n",
    "# Select the top 100 words\n",
    "top_100_words = sorted_word_counts.limit(100)"
   ]
  },
  {
   "cell_type": "code",
   "execution_count": 199,
   "id": "faeb8c6a-6936-416f-9c0a-464e71cbfe6d",
   "metadata": {},
   "outputs": [
    {
     "name": "stderr",
     "output_type": "stream",
     "text": [
      "[Stage 866:==================================================>    (61 + 5) / 66]\r"
     ]
    },
    {
     "name": "stdout",
     "output_type": "stream",
     "text": [
      "+----------+------+\n",
      "|      word| count|\n",
      "+----------+------+\n",
      "|government|263113|\n",
      "|      help|253264|\n",
      "|      make|229714|\n",
      "|      need|228298|\n",
      "|   support|222382|\n",
      "|    people|217059|\n",
      "|   climate|215630|\n",
      "|     labor|199297|\n",
      "|      vote|198007|\n",
      "|     local|193480|\n",
      "|      sign|181036|\n",
      "|       get|178485|\n",
      "|australian|176257|\n",
      "|      time|163952|\n",
      "| australia|161882|\n",
      "|      like|157178|\n",
      "|   federal|154833|\n",
      "|       new|150654|\n",
      "| community|149056|\n",
      "|        us|141102|\n",
      "+----------+------+\n",
      "only showing top 20 rows\n",
      "\n"
     ]
    },
    {
     "name": "stderr",
     "output_type": "stream",
     "text": [
      "                                                                                \r"
     ]
    }
   ],
   "source": [
    "top_100_words.show()"
   ]
  },
  {
   "cell_type": "code",
   "execution_count": 122,
   "id": "a73465b4-e01c-4af3-afaa-823ba4265e76",
   "metadata": {},
   "outputs": [
    {
     "name": "stderr",
     "output_type": "stream",
     "text": [
      "                                                                                \r"
     ]
    }
   ],
   "source": [
    "# Export CSV file for making a word cloud\n",
    "top_words = top_100_words.toPandas()\n",
    "top_words.to_csv('words.csv', encoding='utf-8', index=False)"
   ]
  },
  {
   "cell_type": "markdown",
   "id": "b1601f9e-5115-409c-af19-d86aee873bc8",
   "metadata": {},
   "source": [
    "## 3. Select the highest spending fund entities and look for any significant shifts or trends in spending as the election date approaches:"
   ]
  },
  {
   "cell_type": "markdown",
   "id": "b8fb0531-1174-4296-870e-507ae40bbeea",
   "metadata": {},
   "source": [
    "### 3.1 Top 10 highest spending fund entities "
   ]
  },
  {
   "cell_type": "code",
   "execution_count": 83,
   "id": "f9b7cab5-b0ec-4f2c-93a6-eba06b8599c5",
   "metadata": {},
   "outputs": [
    {
     "name": "stderr",
     "output_type": "stream",
     "text": [
      "                                                                                \r"
     ]
    },
    {
     "data": {
      "text/plain": [
       "1740"
      ]
     },
     "execution_count": 83,
     "metadata": {},
     "output_type": "execute_result"
    }
   ],
   "source": [
    "#Total number of funding entities\n",
    "num_fundingentity = df_clean.select(\"funding_entity\").distinct().count()\n",
    "num_fundingentity "
   ]
  },
  {
   "cell_type": "code",
   "execution_count": 24,
   "id": "fd68c65f-aab4-4eb5-a090-2ae420855156",
   "metadata": {},
   "outputs": [
    {
     "name": "stderr",
     "output_type": "stream",
     "text": [
      "[Stage 42:=====================================================>  (83 + 4) / 87]\r"
     ]
    },
    {
     "name": "stdout",
     "output_type": "stream",
     "text": [
      "+--------------------+-----+-----------+\n",
      "|      funding_entity|month|total_spend|\n",
      "+--------------------+-----+-----------+\n",
      "| Australian Labor...|    5|     1741.5|\n",
      "| Liberal Party of...|    3|    43436.5|\n",
      "| Liberal Party of...|    4|    19237.5|\n",
      "| Liberal Party of...|    5|    28321.5|\n",
      "| اليونيسف باستخدا...|    4|      199.0|\n",
      "|100% Renewable Co...|    2|     1242.5|\n",
      "|100% Renewable Co...|    3|     2635.5|\n",
      "|100% Renewable Co...|    4|     6969.0|\n",
      "|100% Renewable Co...|    5|    26357.0|\n",
      "|  1in50 Incorporated|    2|       49.5|\n",
      "|  1in50 Incorporated|    3|     3077.0|\n",
      "|  1in50 Incorporated|    4|    30300.0|\n",
      "|  1in50 Incorporated|    5|     7709.5|\n",
      "|        3 Steps Away|    4|       49.5|\n",
      "|   350.org Australia|    2|      398.0|\n",
      "|A Modern Gay's Guide|    5|      798.0|\n",
      "|                AANT|    3|       99.0|\n",
      "|                AANT|    4|      594.0|\n",
      "|                AANT|    5|       99.0|\n",
      "|         ABC Friends|    2|    11212.0|\n",
      "+--------------------+-----+-----------+\n",
      "only showing top 20 rows\n",
      "\n"
     ]
    },
    {
     "name": "stderr",
     "output_type": "stream",
     "text": [
      "                                                                                \r"
     ]
    }
   ],
   "source": [
    "# Group by funding entity and month, summing the spending amount\n",
    "spending_trends = df_clean.groupBy(\"funding_entity\", month(\"ad_delivery_start_time\").alias(\"month\")) \\\n",
    "    .agg(sum(\"spend_midpoint\").alias(\"total_spend\")) \\\n",
    "    .orderBy(\"funding_entity\", \"month\")\n",
    "spending_trends.show()"
   ]
  },
  {
   "cell_type": "code",
   "execution_count": 25,
   "id": "c257f4a2-dcab-4d47-9d19-bb37b9283e2b",
   "metadata": {},
   "outputs": [
    {
     "name": "stderr",
     "output_type": "stream",
     "text": [
      "                                                                                \r"
     ]
    },
    {
     "name": "stdout",
     "output_type": "stream",
     "text": [
      "+-----------------------------------------------+----------------+\n",
      "|funding_entity                                 |sum(total_spend)|\n",
      "+-----------------------------------------------+----------------+\n",
      "|Australian Labor Party                         |1.26940215E7    |\n",
      "|United Australia Party                         |7406032.5       |\n",
      "|Australian Electoral Commission                |4619260.5       |\n",
      "|Liberal Party of Australia                     |2287917.5       |\n",
      "|Solutions for Australia                        |2110110.5       |\n",
      "|Liberal Party of Australia (Victorian Division)|1762441.5       |\n",
      "|Liberal National Party of Queensland           |1692410.5       |\n",
      "|Amnesty International Australia                |1657240.5       |\n",
      "|Greenpeace Australia Pacific                   |1650746.0       |\n",
      "|Climate 200                                    |1565760.5       |\n",
      "+-----------------------------------------------+----------------+\n",
      "\n"
     ]
    }
   ],
   "source": [
    "# Select top N funding entities with the highest total spending\n",
    "N = 10\n",
    "top_entities = spending_trends \\\n",
    "    .groupBy(\"funding_entity\") \\\n",
    "    .sum(\"total_spend\") \\\n",
    "    .orderBy(\"sum(total_spend)\", ascending=False) \\\n",
    "    .limit(N)\n",
    "top_entities.show(truncate=False)"
   ]
  },
  {
   "cell_type": "code",
   "execution_count": null,
   "id": "e508bf7b-1de5-4406-a036-69dc9e3d2788",
   "metadata": {},
   "outputs": [],
   "source": [
    "# Join the top N entities with the spending trends data\n",
    "top_spending_trends = spending_trends.join(top_entities, \"funding_entity\", \"inner\")"
   ]
  },
  {
   "cell_type": "code",
   "execution_count": 27,
   "id": "568e4976-8c19-4ee1-9c99-c301bb61df04",
   "metadata": {},
   "outputs": [
    {
     "name": "stderr",
     "output_type": "stream",
     "text": [
      "                                                                                \r"
     ]
    },
    {
     "name": "stdout",
     "output_type": "stream",
     "text": [
      "+-----------------------------------------------+-----+-----------+----------------+\n",
      "|funding_entity                                 |month|total_spend|sum(total_spend)|\n",
      "+-----------------------------------------------+-----+-----------+----------------+\n",
      "|Liberal Party of Australia                     |4    |568446.0   |2287917.5       |\n",
      "|Solutions for Australia                        |5    |1673412.0  |2110110.5       |\n",
      "|Climate 200                                    |5    |305858.0   |1565760.5       |\n",
      "|Liberal Party of Australia (Victorian Division)|5    |1142146.5  |1762441.5       |\n",
      "|Greenpeace Australia Pacific                   |2    |336441.0   |1650746.0       |\n",
      "|Amnesty International Australia                |2    |435574.0   |1657240.5       |\n",
      "|United Australia Party                         |4    |2839583.5  |7406032.5       |\n",
      "|Australian Electoral Commission                |4    |2650272.5  |4619260.5       |\n",
      "|United Australia Party                         |2    |1197.0     |7406032.5       |\n",
      "|Australian Electoral Commission                |5    |1968988.0  |4619260.5       |\n",
      "|Liberal Party of Australia (Victorian Division)|3    |111099.0   |1762441.5       |\n",
      "|Amnesty International Australia                |3    |527795.0   |1657240.5       |\n",
      "|Climate 200                                    |3    |667067.0   |1565760.5       |\n",
      "|Liberal National Party of Queensland           |3    |4492.0     |1692410.5       |\n",
      "|Australian Labor Party                         |5    |8772967.0  |1.26940215E7    |\n",
      "|Greenpeace Australia Pacific                   |3    |757505.0   |1650746.0       |\n",
      "|United Australia Party                         |3    |388519.0   |7406032.5       |\n",
      "|Liberal National Party of Queensland           |4    |632228.5   |1692410.5       |\n",
      "|Greenpeace Australia Pacific                   |5    |119618.0   |1650746.0       |\n",
      "|Liberal Party of Australia (Victorian Division)|2    |78138.0    |1762441.5       |\n",
      "+-----------------------------------------------+-----+-----------+----------------+\n",
      "only showing top 20 rows\n",
      "\n"
     ]
    }
   ],
   "source": [
    "top_spending_trends.show(truncate=False)"
   ]
  },
  {
   "cell_type": "code",
   "execution_count": 28,
   "id": "a3766417-3ac6-4a67-903e-0f877431e3ce",
   "metadata": {},
   "outputs": [
    {
     "name": "stderr",
     "output_type": "stream",
     "text": [
      "                                                                                \r"
     ]
    }
   ],
   "source": [
    "# Save as csv for graph plotting\n",
    "spending_trends_pd = top_spending_trends.toPandas()\n",
    "spending_trends_pd.to_csv('spend_top.csv', encoding='utf-8', index=False)"
   ]
  },
  {
   "cell_type": "markdown",
   "id": "9b1b0a62-3db7-485c-8c11-fb0ab1551bb3",
   "metadata": {},
   "source": [
    "### 3.2 Major winning parties' spending patterns"
   ]
  },
  {
   "cell_type": "markdown",
   "id": "aa7ac121-31ac-468f-9d39-f1d58de75430",
   "metadata": {},
   "source": [
    "We have explored the top spending entities previously and realized that not all political parties put vast amount of money on ads. We are going to explore winning parties' spending patterns."
   ]
  },
  {
   "cell_type": "code",
   "execution_count": 29,
   "id": "8fb3603b-c211-48e6-bdc4-4248f10e41cb",
   "metadata": {},
   "outputs": [],
   "source": [
    "# Filter entities containing keywords\n",
    "top_entities_with_keywords = spending_trends.filter(\n",
    "    (col(\"funding_entity\").like(\"%Labor%\")) |\n",
    "    (col(\"funding_entity\").like(\"%Liberal%\")) |\n",
    "    (col(\"funding_entity\").like(\"%Greens%\")) |\n",
    "    (col(\"funding_entity\").like(\"%National%\")) |\n",
    "    (col(\"funding_entity\").like(\"%Centre Alliance%\")) | \n",
    "    (col(\"funding_entity\").like(\"%Independent%\")) |\n",
    "    (col(\"funding_entity\").like(\"%Katter's%\"))\n",
    ")"
   ]
  },
  {
   "cell_type": "code",
   "execution_count": 208,
   "id": "79fa097e-3924-47b7-9758-1eff907b4fbd",
   "metadata": {},
   "outputs": [
    {
     "name": "stderr",
     "output_type": "stream",
     "text": [
      "[Stage 935:============================================>         (53 + 12) / 65]\r"
     ]
    },
    {
     "name": "stdout",
     "output_type": "stream",
     "text": [
      "+-------------------------------------------------------+-----+-----------+\n",
      "|funding_entity                                         |month|total_spend|\n",
      "+-------------------------------------------------------+-----+-----------+\n",
      "| Australian Labor Party (NSW Branch)                   |5    |900.0      |\n",
      "| Liberal Party of Australia Tas Division               |3    |39600.0    |\n",
      "| Liberal Party of Australia Tas Division               |4    |17000.0    |\n",
      "| Liberal Party of Australia Tas Division               |5    |24300.0    |\n",
      "|ACT Greens                                             |2    |5300.0     |\n",
      "|ACT Greens                                             |3    |2700.0     |\n",
      "|ACT Greens                                             |4    |41200.0    |\n",
      "|ACT Greens                                             |5    |9400.0     |\n",
      "|ACT Labor                                              |2    |100.0      |\n",
      "|ACT Labor                                              |3    |0.0        |\n",
      "|ACT Labor                                              |4    |10600.0    |\n",
      "|ACT Labor                                              |5    |13100.0    |\n",
      "|ACT Labor                                              |4    |0.0        |\n",
      "|ACT Labor                                              |5    |0.0        |\n",
      "|Anne Aly Labor                                         |2    |1200.0     |\n",
      "|Anne Aly Labor                                         |3    |100.0      |\n",
      "|Anne Aly Labor                                         |4    |5600.0     |\n",
      "|Anne Aly Labor                                         |5    |13000.0    |\n",
      "|Anne Webster MP, National Party of Australia, Mildura, |2    |600.0      |\n",
      "|Anne Webster MP, National Party of Australia, Mildura, |3    |0.0        |\n",
      "+-------------------------------------------------------+-----+-----------+\n",
      "only showing top 20 rows\n",
      "\n"
     ]
    },
    {
     "name": "stderr",
     "output_type": "stream",
     "text": [
      "                                                                                \r"
     ]
    }
   ],
   "source": [
    "top_entities_with_keywords.show(truncate=False)"
   ]
  },
  {
   "cell_type": "code",
   "execution_count": 30,
   "id": "f3cd23f6-60ca-4202-b4a2-26b8b6501908",
   "metadata": {},
   "outputs": [
    {
     "name": "stderr",
     "output_type": "stream",
     "text": [
      "                                                                                \r"
     ]
    }
   ],
   "source": [
    "# Save as csv for graph plotting\n",
    "keywords_pd = top_entities_with_keywords.toPandas()\n",
    "keywords_pd.to_csv('keywords.csv', encoding='utf-8', index=False)"
   ]
  },
  {
   "cell_type": "markdown",
   "id": "dfa55758-b8ea-4734-946c-6512ccae3d1b",
   "metadata": {},
   "source": [
    "Group by each entitiy and observe their total spending"
   ]
  },
  {
   "cell_type": "code",
   "execution_count": 31,
   "id": "45447426-ee0a-45c1-9c37-9ed4cb0a9b3c",
   "metadata": {},
   "outputs": [],
   "source": [
    "#Group by each entity and observe their total spending\n",
    "entities_total = top_entities_with_keywords.groupby(\"funding_entity\").agg({\"total_spend\": \"sum\"}).alias(\"total\")"
   ]
  },
  {
   "cell_type": "code",
   "execution_count": 211,
   "id": "46f29b9c-663b-4f9a-a85f-6945a188882f",
   "metadata": {},
   "outputs": [
    {
     "name": "stderr",
     "output_type": "stream",
     "text": [
      "                                                                                \r"
     ]
    },
    {
     "name": "stdout",
     "output_type": "stream",
     "text": [
      "+--------------------+----------------+\n",
      "|      funding_entity|sum(total_spend)|\n",
      "+--------------------+----------------+\n",
      "|Mick Denton - Lab...|         71300.0|\n",
      "|   NSW Liberal Party|          9400.0|\n",
      "|Daniel Hulme, Lab...|          1000.0|\n",
      "|Russell Robertson...|         15200.0|\n",
      "|NSW Labor - Warri...|           300.0|\n",
      "|The National Part...|         68600.0|\n",
      "|University of Tas...|             0.0|\n",
      "|           NT Greens|          2100.0|\n",
      "|National Secular ...|           100.0|\n",
      "|National Disabili...|         25600.0|\n",
      "|LNP - Liberal Nat...|          8200.0|\n",
      "|Independent Cowpe...|         13400.0|\n",
      "|Parramatta & The ...|             0.0|\n",
      "|Independent Educa...|           600.0|\n",
      "|Liberal National ...|       1518000.0|\n",
      "|Liberal Party of ...|       1917000.0|\n",
      "|  NSW National Party|          1600.0|\n",
      "|          ACT Greens|         58600.0|\n",
      "|National Farmers ...|         26300.0|\n",
      "|Liberal Democrats WA|          2700.0|\n",
      "+--------------------+----------------+\n",
      "only showing top 20 rows\n",
      "\n"
     ]
    }
   ],
   "source": [
    "entities_total.show()"
   ]
  },
  {
   "cell_type": "code",
   "execution_count": 32,
   "id": "4188b7f0-9970-49ef-85fc-398020c855d9",
   "metadata": {},
   "outputs": [
    {
     "name": "stderr",
     "output_type": "stream",
     "text": [
      "                                                                                \r"
     ]
    }
   ],
   "source": [
    "# Save as csv for graph plotting\n",
    "keyword_grp_pd = entities_total.toPandas()\n",
    "keyword_grp_pd.to_csv('keywords_grp.csv', encoding='utf-8', index=False)"
   ]
  }
 ],
 "metadata": {
  "kernelspec": {
   "display_name": "PySpark",
   "language": "python",
   "name": "pyspark"
  },
  "language_info": {
   "codemirror_mode": {
    "name": "ipython",
    "version": 3
   },
   "file_extension": ".py",
   "mimetype": "text/x-python",
   "name": "python",
   "nbconvert_exporter": "python",
   "pygments_lexer": "ipython3",
   "version": "3.10.13"
  }
 },
 "nbformat": 4,
 "nbformat_minor": 5
}
